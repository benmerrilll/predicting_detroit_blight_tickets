{
 "cells": [
  {
   "cell_type": "markdown",
   "metadata": {},
   "source": [
    "# Parking Ticket Predictions\n",
    "\n",
    "This project is based on a data challenge from Michigan Data Science Team (MDST). \n",
    "\n",
    "The Michigan Data Science Team (MDST) and the Michigan Student Symposium for Interdisciplinary Statistical Sciences (MSSISS) have partnered with the City of Detroit to help solve one of the most pressing problems facing Detroit - building deterioration. Blight violations are issued by the city to individuals who allow their properties to remain in a deteriorated condition. Every year, the city of Detroit issues millions of dollars in fines to residents and every year, many of these fines remain unpaid. Enforcing unpaid blight fines is a costly and tedious process, so the city wants to know: how can we increase blight ticket compliance?\n",
    "\n",
    "Our data comes from the Detroit Open Data Portal (https://data.detroitmi.gov/) and comes with two files: past_blight_tickets.csv and current_blight_tickets.csv. \n",
    "\n",
    "The first step in increasing blight ticket payment compliance is to better understand common indicators of when and why citizens do not pay their ticket fees. To do this, we will build a few supervised learning models to take a deeper look at the commonalities that people who do or don't pay their blight fees.   \n",
    "\n",
    "The **files** include:\n",
    "\n",
    "    past_blight_tickets.csv - training set of tickets issued 2004-2011\n",
    "    current_blight_tickets.csv = the test set of all blight tickets issued 2012-2016\n",
    "    addresses.csv and latalons.csv - used to map ticket_id to addresses\n",
    " \n",
    "**Data fields**\n",
    "\n",
    "train.csv & test.csv\n",
    "\n",
    "    ticket_id - unique identifier for tickets\n",
    "    agency_name - Agency that issued the ticket\n",
    "    inspector_name - Name of inspector that issued the ticket\n",
    "    violator_name - Name of the person/organization that the ticket was issued to\n",
    "    violation_street_number, violation_street_name, violation_zip_code - Address where the violation occurred\n",
    "    mailing_address_str_number, mailing_address_str_name, city, state, zip_code, non_us_str_code, country - Mailing address of the violator\n",
    "    ticket_issued_date - Date and time the ticket was issued\n",
    "    hearing_date - Date and time the violator's hearing was scheduled\n",
    "    violation_code, violation_description - Type of violation\n",
    "    disposition - Judgment and judgement type\n",
    "    fine_amount - Violation fine amount, excluding fees\n",
    "    admin_fee - $20 fee assigned to responsible judgments\n",
    "state_fee - $10 fee assigned to responsible judgments\n",
    "    late_fee - 10% fee assigned to responsible judgments\n",
    "    discount_amount - discount applied, if any\n",
    "    clean_up_cost - DPW clean-up or graffiti removal cost\n",
    "    judgment_amount - Sum of all fines and fees\n",
    "    grafitti_status - Flag for graffiti violations\n",
    "    \n",
    "train.csv only\n",
    "\n",
    "    payment_amount - Amount paid, if any\n",
    "    payment_date - Date payment was made, if it was received\n",
    "    payment_status - Current payment status as of Feb 1 2017\n",
    "    balance_due - Fines and fees still owed\n",
    "    collection_status - Flag for payments in collections\n",
    "    compliance [target variable for prediction] \n",
    "     Null = Not responsible\n",
    "     0 = Responsible, non-compliant\n",
    "     1 = Responsible, compliant\n",
    "    compliance_detail - More information on why each ticket was marked compliant or non-compliant\n"
   ]
  },
  {
   "cell_type": "markdown",
   "metadata": {},
   "source": [
    "# Import Libraries"
   ]
  },
  {
   "cell_type": "code",
   "execution_count": 2,
   "metadata": {},
   "outputs": [],
   "source": [
    "import numpy as np\n",
    "import pandas as pd\n",
    "import matplotlib.pyplot as plt\n",
    "\n",
    "from sklearn.model_selection import GridSearchCV\n",
    "from sklearn.model_selection import train_test_split\n",
    "from sklearn.linear_model import LogisticRegression\n",
    "from sklearn.ensemble import RandomForestClassifier\n",
    "from sklearn.metrics import roc_auc_score\n",
    "from sklearn.metrics import classification_report\n"
   ]
  },
  {
   "cell_type": "markdown",
   "metadata": {},
   "source": [
    "# Exploring and Cleaning the Data"
   ]
  },
  {
   "cell_type": "code",
   "execution_count": 3,
   "metadata": {
    "scrolled": true
   },
   "outputs": [
    {
     "name": "stdout",
     "output_type": "stream",
     "text": [
      "The input file has the shape  (250306, 35)\n",
      "\n",
      "Our fields are  ['Unnamed: 0' 'ticket_id' 'agency_name' 'inspector_name' 'violator_name'\n",
      " 'violation_street_number' 'violation_street_name' 'violation_zip_code'\n",
      " 'mailing_address_str_number' 'mailing_address_str_name' 'city' 'state'\n",
      " 'zip_code' 'non_us_str_code' 'country' 'ticket_issued_date'\n",
      " 'hearing_date' 'violation_code' 'violation_description' 'disposition'\n",
      " 'fine_amount' 'admin_fee' 'state_fee' 'late_fee' 'discount_amount'\n",
      " 'clean_up_cost' 'judgment_amount' 'payment_amount' 'balance_due'\n",
      " 'payment_date' 'payment_status' 'collection_status' 'grafitti_status'\n",
      " 'compliance_detail' 'compliance']\n"
     ]
    }
   ],
   "source": [
    "past_tickets = pd.read_csv('data/past_blight_tickets.csv', low_memory=False)\n",
    "\n",
    "current_tickets = pd.read_csv('data/current_blight_tickets.csv', low_memory=False)\n",
    "\n",
    "print('The input file has the shape ', past_tickets.shape)\n",
    "print('\\nOur fields are ', past_tickets.columns.values)"
   ]
  },
  {
   "cell_type": "code",
   "execution_count": 4,
   "metadata": {},
   "outputs": [
    {
     "data": {
      "text/plain": [
       "compliance\n",
       "0.0    148283\n",
       "1.0     11597\n",
       "Name: ticket_id, dtype: int64"
      ]
     },
     "execution_count": 4,
     "metadata": {},
     "output_type": "execute_result"
    }
   ],
   "source": [
    "# The target value for our prediction \n",
    "\n",
    "past_tickets.groupby('compliance').count()['ticket_id']"
   ]
  },
  {
   "cell_type": "code",
   "execution_count": 5,
   "metadata": {},
   "outputs": [
    {
     "data": {
      "text/plain": [
       "disposition\n",
       "Not responsible by Dismissal         48695\n",
       "Not responsible by City Dismissal    34401\n",
       "Not responsible by Determination      6639\n",
       "PENDING JUDGMENT                       387\n",
       "SET-ASIDE (PENDING JUDGMENT)           304\n",
       "Name: ticket_id, dtype: int64"
      ]
     },
     "execution_count": 5,
     "metadata": {},
     "output_type": "execute_result"
    }
   ],
   "source": [
    "# There are about 100,000 nas in our target value. There are not  \n",
    "\n",
    "target_nas = past_tickets[past_tickets['compliance'].isna()]\n",
    "target_nas.groupby('disposition').count()['ticket_id'].sort_values(ascending=False)"
   ]
  },
  {
   "cell_type": "markdown",
   "metadata": {},
   "source": [
    "**Note on NA values in Target Field**\n",
    "\n",
    "We see that the NA values in the 'compliance' field (our target field) represent issued tickets that have been revoked by the city. We can remove these from the dataset because we are interested only in parties where tickets have stayed issued by the city. "
   ]
  },
  {
   "cell_type": "code",
   "execution_count": 6,
   "metadata": {},
   "outputs": [],
   "source": [
    "# Remove dismissed or determinated tickets\n",
    "\n",
    "past_tickets = past_tickets[~past_tickets['compliance'].isna()]"
   ]
  },
  {
   "cell_type": "code",
   "execution_count": 7,
   "metadata": {},
   "outputs": [
    {
     "name": "stdout",
     "output_type": "stream",
     "text": [
      "The Most Common 7 Violations \n",
      "\n",
      "violation_description\n",
      "Failure of owner to obtain certificate of compliance                                                    64414\n",
      "Failure to obtain certificate of registration for rental property                                       23145\n",
      "Failure of owner to keep property, its sidewalks, or adjoining public property free from solid waste    19072\n",
      "Excessive weeds or plant growth one- or two-family dwelling or commercial Building                      16927\n",
      "Allowing bulk solid waste to lie or accumulate on or about the premises                                  4879\n",
      "Violation of time limit for approved containers to remain at curbside - early or late                    4200\n",
      "Rodent harborage one-or two-family dwelling or commercial building                                       3619\n",
      "Name: ticket_id, dtype: int64\n"
     ]
    }
   ],
   "source": [
    "# Common Violations\n",
    "\n",
    "num_violations = 7\n",
    "\n",
    "print('The Most Common {} Violations \\n'.format(num_violations))\n",
    "print(past_tickets.groupby('violation_description').count()['ticket_id'].sort_values(ascending=False)[:num_violations])"
   ]
  },
  {
   "cell_type": "code",
   "execution_count": 8,
   "metadata": {},
   "outputs": [
    {
     "data": {
      "text/plain": [
       "Text(0.5, 0, 'Fine Amount ($USD)')"
      ]
     },
     "execution_count": 8,
     "metadata": {},
     "output_type": "execute_result"
    },
    {
     "data": {
      "image/png": "[encoded data removed]",
      "text/plain": [
       "<Figure size 1440x576 with 1 Axes>"
      ]
     },
     "metadata": {
      "needs_background": "light"
     },
     "output_type": "display_data"
    }
   ],
   "source": [
    "# Plot ticket\n",
    "plt.figure(figsize=(20,8))\n",
    "plt.xlim(0,2000)\n",
    "\n",
    "\n",
    "plt.hist(past_tickets['fine_amount'], bins=200)\n",
    "\n",
    "plt.title('Distribution of Fine Amounts')\n",
    "plt.ylabel('Number of Tickets')\n",
    "plt.xlabel('Fine Amount ($USD)')"
   ]
  },
  {
   "cell_type": "markdown",
   "metadata": {},
   "source": [
    "# Cleaning the Data for Model Usage"
   ]
  },
  {
   "cell_type": "code",
   "execution_count": 71,
   "metadata": {},
   "outputs": [],
   "source": [
    "# Target Variable\n",
    "y = past_tickets['compliance']\n",
    "\n",
    "# All columns in present_tickets.csv file\n",
    "X = past_tickets[['ticket_id', 'agency_name', 'inspector_name', 'violator_name', 'violation_street_number',\n",
    "                     'violation_street_name', 'violation_zip_code',\n",
    "                     'mailing_address_str_number', 'mailing_address_str_name', 'city', 'state', 'zip_code', \n",
    "                     'non_us_str_code', 'country', 'ticket_issued_date', 'hearing_date', 'violation_code',\n",
    "                     'violation_description', 'disposition', 'fine_amount', 'admin_fee', 'state_fee',\n",
    "                     'late_fee', 'discount_amount', 'clean_up_cost', 'judgment_amount', 'grafitti_status']]"
   ]
  },
  {
   "cell_type": "code",
   "execution_count": 72,
   "metadata": {},
   "outputs": [],
   "source": [
    "def check_for_nas(data):\n",
    "    copy = data.copy()\n",
    "    \n",
    "    for col in copy.columns:\n",
    "        \n",
    "        if copy[col].isnull().values.any():\n",
    "            num_nas = len(copy[copy[col].isnull()])\n",
    "            proportion_na = num_nas/len(copy[col])\n",
    "            \n",
    "            print('There are nulls in column:', col)\n",
    "            print('The number of NAs is {}'.format(num_nas))\n",
    "            print('The proportion of nas in {} is {}'.format(col, proportion_na), '\\n')"
   ]
  },
  {
   "cell_type": "code",
   "execution_count": 73,
   "metadata": {},
   "outputs": [
    {
     "name": "stdout",
     "output_type": "stream",
     "text": [
      "There are nulls in column: violator_name\n",
      "The number of NAs is 26\n",
      "The proportion of nas in violator_name is 0.00016262196647485615 \n",
      "\n",
      "There are nulls in column: violation_zip_code\n",
      "The number of NAs is 159880\n",
      "The proportion of nas in violation_zip_code is 1.0 \n",
      "\n",
      "There are nulls in column: mailing_address_str_number\n",
      "The number of NAs is 2558\n",
      "The proportion of nas in mailing_address_str_number is 0.015999499624718538 \n",
      "\n",
      "There are nulls in column: mailing_address_str_name\n",
      "The number of NAs is 3\n",
      "The proportion of nas in mailing_address_str_name is 1.8764073054791094e-05 \n",
      "\n",
      "There are nulls in column: state\n",
      "The number of NAs is 84\n",
      "The proportion of nas in state is 0.0005253940455341507 \n",
      "\n",
      "There are nulls in column: zip_code\n",
      "The number of NAs is 1\n",
      "The proportion of nas in zip_code is 6.254691018263698e-06 \n",
      "\n",
      "There are nulls in column: non_us_str_code\n",
      "The number of NAs is 159877\n",
      "The proportion of nas in non_us_str_code is 0.9999812359269452 \n",
      "\n",
      "There are nulls in column: hearing_date\n",
      "The number of NAs is 227\n",
      "The proportion of nas in hearing_date is 0.0014198148611458594 \n",
      "\n",
      "There are nulls in column: grafitti_status\n",
      "The number of NAs is 159880\n",
      "The proportion of nas in grafitti_status is 1.0 \n",
      "\n"
     ]
    }
   ],
   "source": [
    "check_for_nas(X)"
   ]
  },
  {
   "cell_type": "markdown",
   "metadata": {},
   "source": [
    "**Note on NA values**\n",
    "\n",
    "We don't want to drop entire columns just because of a few NA values.\n",
    "\n",
    "We first check to see if our na values have a proportion of nas higher than na_floor. Then, based on the type of data in the field, we either fill it with the median value, or an empty string \"\". "
   ]
  },
  {
   "cell_type": "code",
   "execution_count": 74,
   "metadata": {},
   "outputs": [],
   "source": [
    "# Pull out columns with high proportion of NA values, turn text into float data, and typecast other fields as floats \n",
    "\n",
    "def numericize_or_drop_col(data, na_floor=0.01):\n",
    "    \n",
    "    dropped_cols = []\n",
    "    copy = data.copy()\n",
    "    \n",
    "    for col in copy.columns:\n",
    "        \n",
    "        #print(col)\n",
    "        \n",
    "        if copy[col].isnull().values.any(): #Drops columns with NA values\n",
    "            \n",
    "            proportion_na = len(copy[copy[col].isnull()])/len(copy[col])\n",
    "            \n",
    "            print('There are nulls in column:', col)\n",
    "            print('The proportion of nas in {} is {}'.format(col, proportion_na), '\\n')\n",
    "            copy = copy.drop([col], axis=1)\n",
    "        \n",
    "        \n",
    "        if type(copy[col][1]) == str: #Turn string data into numerical for model\n",
    "            #Sorts unique values of series by frequency and returns integers instead of strings \n",
    "            #Note: this is particularly useful for decision trees models that make binary splits\n",
    "            \n",
    "            dropped_cols.append((col, 'text to integers'))\n",
    "            \n",
    "            unique_series = copy[col].groupby(copy[col]).count()\n",
    "            unique_series = unique_series.sort_values(ascending=False)\n",
    "            text_to_int_dict = {unique_value:float(i) for i, unique_value in enumerate(unique_series.index)}\n",
    "            copy['%s_as_integer'.format(col)] = [text_to_int_dict[val] for val in copy.loc[:,col]].copy()\n",
    "\n",
    "            copy = copy.drop([col], axis=1)\n",
    "                  \n",
    "                \n",
    "        else: #typecast columns to floats\n",
    "            #print('No nulls, moving on')\n",
    "            copy[col] = copy[col].astype(np.float64)\n",
    "                  \n",
    "    return copy, dropped_cols"
   ]
  },
  {
   "cell_type": "code",
   "execution_count": 75,
   "metadata": {},
   "outputs": [
    {
     "name": "stdout",
     "output_type": "stream",
     "text": [
      "There are nulls in column: violator_name\n",
      "The proportion of nas in violator_name is 0.00016262196647485615 \n",
      "\n"
     ]
    },
    {
     "ename": "KeyError",
     "evalue": "'violator_name'",
     "output_type": "error",
     "traceback": [
      "\u001b[1;31m---------------------------------------------------------------------------\u001b[0m",
      "\u001b[1;31mKeyError\u001b[0m                                  Traceback (most recent call last)",
      "\u001b[1;32m~\\anaconda3\\lib\\site-packages\\pandas\\core\\indexes\\base.py\u001b[0m in \u001b[0;36mget_loc\u001b[1;34m(self, key, method, tolerance)\u001b[0m\n\u001b[0;32m   2645\u001b[0m             \u001b[1;32mtry\u001b[0m\u001b[1;33m:\u001b[0m\u001b[1;33m\u001b[0m\u001b[1;33m\u001b[0m\u001b[0m\n\u001b[1;32m-> 2646\u001b[1;33m                 \u001b[1;32mreturn\u001b[0m \u001b[0mself\u001b[0m\u001b[1;33m.\u001b[0m\u001b[0m_engine\u001b[0m\u001b[1;33m.\u001b[0m\u001b[0mget_loc\u001b[0m\u001b[1;33m(\u001b[0m\u001b[0mkey\u001b[0m\u001b[1;33m)\u001b[0m\u001b[1;33m\u001b[0m\u001b[1;33m\u001b[0m\u001b[0m\n\u001b[0m\u001b[0;32m   2647\u001b[0m             \u001b[1;32mexcept\u001b[0m \u001b[0mKeyError\u001b[0m\u001b[1;33m:\u001b[0m\u001b[1;33m\u001b[0m\u001b[1;33m\u001b[0m\u001b[0m\n",
      "\u001b[1;32mpandas\\_libs\\index.pyx\u001b[0m in \u001b[0;36mpandas._libs.index.IndexEngine.get_loc\u001b[1;34m()\u001b[0m\n",
      "\u001b[1;32mpandas\\_libs\\index.pyx\u001b[0m in \u001b[0;36mpandas._libs.index.IndexEngine.get_loc\u001b[1;34m()\u001b[0m\n",
      "\u001b[1;32mpandas\\_libs\\hashtable_class_helper.pxi\u001b[0m in \u001b[0;36mpandas._libs.hashtable.PyObjectHashTable.get_item\u001b[1;34m()\u001b[0m\n",
      "\u001b[1;32mpandas\\_libs\\hashtable_class_helper.pxi\u001b[0m in \u001b[0;36mpandas._libs.hashtable.PyObjectHashTable.get_item\u001b[1;34m()\u001b[0m\n",
      "\u001b[1;31mKeyError\u001b[0m: 'violator_name'",
      "\nDuring handling of the above exception, another exception occurred:\n",
      "\u001b[1;31mKeyError\u001b[0m                                  Traceback (most recent call last)",
      "\u001b[1;32m<ipython-input-75-d1522cdc8dde>\u001b[0m in \u001b[0;36m<module>\u001b[1;34m\u001b[0m\n\u001b[1;32m----> 1\u001b[1;33m \u001b[0mnew_X\u001b[0m\u001b[1;33m,\u001b[0m \u001b[0mdropped_cols\u001b[0m \u001b[1;33m=\u001b[0m \u001b[0mnumericize_or_drop_col\u001b[0m\u001b[1;33m(\u001b[0m\u001b[0mX\u001b[0m\u001b[1;33m)\u001b[0m\u001b[1;33m\u001b[0m\u001b[1;33m\u001b[0m\u001b[0m\n\u001b[0m",
      "\u001b[1;32m<ipython-input-74-8c08a842c13e>\u001b[0m in \u001b[0;36mnumericize_or_drop_col\u001b[1;34m(data, na_floor)\u001b[0m\n\u001b[0;32m     19\u001b[0m \u001b[1;33m\u001b[0m\u001b[0m\n\u001b[0;32m     20\u001b[0m \u001b[1;33m\u001b[0m\u001b[0m\n\u001b[1;32m---> 21\u001b[1;33m         \u001b[1;32mif\u001b[0m \u001b[0mtype\u001b[0m\u001b[1;33m(\u001b[0m\u001b[0mcopy\u001b[0m\u001b[1;33m[\u001b[0m\u001b[0mcol\u001b[0m\u001b[1;33m]\u001b[0m\u001b[1;33m[\u001b[0m\u001b[1;36m1\u001b[0m\u001b[1;33m]\u001b[0m\u001b[1;33m)\u001b[0m \u001b[1;33m==\u001b[0m \u001b[0mstr\u001b[0m\u001b[1;33m:\u001b[0m \u001b[1;31m#Turn string data into numerical for model\u001b[0m\u001b[1;33m\u001b[0m\u001b[1;33m\u001b[0m\u001b[0m\n\u001b[0m\u001b[0;32m     22\u001b[0m             \u001b[1;31m#Sorts unique values of series by frequency and returns integers instead of strings\u001b[0m\u001b[1;33m\u001b[0m\u001b[1;33m\u001b[0m\u001b[1;33m\u001b[0m\u001b[0m\n\u001b[0;32m     23\u001b[0m             \u001b[1;31m#Note: this is particularly useful for decision trees models that make binary splits\u001b[0m\u001b[1;33m\u001b[0m\u001b[1;33m\u001b[0m\u001b[1;33m\u001b[0m\u001b[0m\n",
      "\u001b[1;32m~\\anaconda3\\lib\\site-packages\\pandas\\core\\frame.py\u001b[0m in \u001b[0;36m__getitem__\u001b[1;34m(self, key)\u001b[0m\n\u001b[0;32m   2798\u001b[0m             \u001b[1;32mif\u001b[0m \u001b[0mself\u001b[0m\u001b[1;33m.\u001b[0m\u001b[0mcolumns\u001b[0m\u001b[1;33m.\u001b[0m\u001b[0mnlevels\u001b[0m \u001b[1;33m>\u001b[0m \u001b[1;36m1\u001b[0m\u001b[1;33m:\u001b[0m\u001b[1;33m\u001b[0m\u001b[1;33m\u001b[0m\u001b[0m\n\u001b[0;32m   2799\u001b[0m                 \u001b[1;32mreturn\u001b[0m \u001b[0mself\u001b[0m\u001b[1;33m.\u001b[0m\u001b[0m_getitem_multilevel\u001b[0m\u001b[1;33m(\u001b[0m\u001b[0mkey\u001b[0m\u001b[1;33m)\u001b[0m\u001b[1;33m\u001b[0m\u001b[1;33m\u001b[0m\u001b[0m\n\u001b[1;32m-> 2800\u001b[1;33m             \u001b[0mindexer\u001b[0m \u001b[1;33m=\u001b[0m \u001b[0mself\u001b[0m\u001b[1;33m.\u001b[0m\u001b[0mcolumns\u001b[0m\u001b[1;33m.\u001b[0m\u001b[0mget_loc\u001b[0m\u001b[1;33m(\u001b[0m\u001b[0mkey\u001b[0m\u001b[1;33m)\u001b[0m\u001b[1;33m\u001b[0m\u001b[1;33m\u001b[0m\u001b[0m\n\u001b[0m\u001b[0;32m   2801\u001b[0m             \u001b[1;32mif\u001b[0m \u001b[0mis_integer\u001b[0m\u001b[1;33m(\u001b[0m\u001b[0mindexer\u001b[0m\u001b[1;33m)\u001b[0m\u001b[1;33m:\u001b[0m\u001b[1;33m\u001b[0m\u001b[1;33m\u001b[0m\u001b[0m\n\u001b[0;32m   2802\u001b[0m                 \u001b[0mindexer\u001b[0m \u001b[1;33m=\u001b[0m \u001b[1;33m[\u001b[0m\u001b[0mindexer\u001b[0m\u001b[1;33m]\u001b[0m\u001b[1;33m\u001b[0m\u001b[1;33m\u001b[0m\u001b[0m\n",
      "\u001b[1;32m~\\anaconda3\\lib\\site-packages\\pandas\\core\\indexes\\base.py\u001b[0m in \u001b[0;36mget_loc\u001b[1;34m(self, key, method, tolerance)\u001b[0m\n\u001b[0;32m   2646\u001b[0m                 \u001b[1;32mreturn\u001b[0m \u001b[0mself\u001b[0m\u001b[1;33m.\u001b[0m\u001b[0m_engine\u001b[0m\u001b[1;33m.\u001b[0m\u001b[0mget_loc\u001b[0m\u001b[1;33m(\u001b[0m\u001b[0mkey\u001b[0m\u001b[1;33m)\u001b[0m\u001b[1;33m\u001b[0m\u001b[1;33m\u001b[0m\u001b[0m\n\u001b[0;32m   2647\u001b[0m             \u001b[1;32mexcept\u001b[0m \u001b[0mKeyError\u001b[0m\u001b[1;33m:\u001b[0m\u001b[1;33m\u001b[0m\u001b[1;33m\u001b[0m\u001b[0m\n\u001b[1;32m-> 2648\u001b[1;33m                 \u001b[1;32mreturn\u001b[0m \u001b[0mself\u001b[0m\u001b[1;33m.\u001b[0m\u001b[0m_engine\u001b[0m\u001b[1;33m.\u001b[0m\u001b[0mget_loc\u001b[0m\u001b[1;33m(\u001b[0m\u001b[0mself\u001b[0m\u001b[1;33m.\u001b[0m\u001b[0m_maybe_cast_indexer\u001b[0m\u001b[1;33m(\u001b[0m\u001b[0mkey\u001b[0m\u001b[1;33m)\u001b[0m\u001b[1;33m)\u001b[0m\u001b[1;33m\u001b[0m\u001b[1;33m\u001b[0m\u001b[0m\n\u001b[0m\u001b[0;32m   2649\u001b[0m         \u001b[0mindexer\u001b[0m \u001b[1;33m=\u001b[0m \u001b[0mself\u001b[0m\u001b[1;33m.\u001b[0m\u001b[0mget_indexer\u001b[0m\u001b[1;33m(\u001b[0m\u001b[1;33m[\u001b[0m\u001b[0mkey\u001b[0m\u001b[1;33m]\u001b[0m\u001b[1;33m,\u001b[0m \u001b[0mmethod\u001b[0m\u001b[1;33m=\u001b[0m\u001b[0mmethod\u001b[0m\u001b[1;33m,\u001b[0m \u001b[0mtolerance\u001b[0m\u001b[1;33m=\u001b[0m\u001b[0mtolerance\u001b[0m\u001b[1;33m)\u001b[0m\u001b[1;33m\u001b[0m\u001b[1;33m\u001b[0m\u001b[0m\n\u001b[0;32m   2650\u001b[0m         \u001b[1;32mif\u001b[0m \u001b[0mindexer\u001b[0m\u001b[1;33m.\u001b[0m\u001b[0mndim\u001b[0m \u001b[1;33m>\u001b[0m \u001b[1;36m1\u001b[0m \u001b[1;32mor\u001b[0m \u001b[0mindexer\u001b[0m\u001b[1;33m.\u001b[0m\u001b[0msize\u001b[0m \u001b[1;33m>\u001b[0m \u001b[1;36m1\u001b[0m\u001b[1;33m:\u001b[0m\u001b[1;33m\u001b[0m\u001b[1;33m\u001b[0m\u001b[0m\n",
      "\u001b[1;32mpandas\\_libs\\index.pyx\u001b[0m in \u001b[0;36mpandas._libs.index.IndexEngine.get_loc\u001b[1;34m()\u001b[0m\n",
      "\u001b[1;32mpandas\\_libs\\index.pyx\u001b[0m in \u001b[0;36mpandas._libs.index.IndexEngine.get_loc\u001b[1;34m()\u001b[0m\n",
      "\u001b[1;32mpandas\\_libs\\hashtable_class_helper.pxi\u001b[0m in \u001b[0;36mpandas._libs.hashtable.PyObjectHashTable.get_item\u001b[1;34m()\u001b[0m\n",
      "\u001b[1;32mpandas\\_libs\\hashtable_class_helper.pxi\u001b[0m in \u001b[0;36mpandas._libs.hashtable.PyObjectHashTable.get_item\u001b[1;34m()\u001b[0m\n",
      "\u001b[1;31mKeyError\u001b[0m: 'violator_name'"
     ]
    }
   ],
   "source": [
    "new_X, dropped_cols = numericize_or_drop_col(X)"
   ]
  },
  {
   "cell_type": "code",
   "execution_count": null,
   "metadata": {},
   "outputs": [],
   "source": []
  },
  {
   "cell_type": "code",
   "execution_count": null,
   "metadata": {},
   "outputs": [],
   "source": [
    "def column_union(df1,df2):\n",
    "    "
   ]
  },
  {
   "cell_type": "markdown",
   "metadata": {},
   "source": [
    "# Modelling"
   ]
  },
  {
   "cell_type": "code",
   "execution_count": 40,
   "metadata": {},
   "outputs": [],
   "source": [
    "# Model training, GridCV, MeanMaxNormalizer (Ridge Regression, Logistic, basic NNs), Random Forests\n",
    "\n",
    "X_train, X_test, y_train, y_test = train_test_split(X, y, test_size=0.33, random_state=0)"
   ]
  },
  {
   "cell_type": "code",
   "execution_count": 41,
   "metadata": {},
   "outputs": [
    {
     "name": "stderr",
     "output_type": "stream",
     "text": [
      "C:\\Users\\bensm\\anaconda3\\lib\\site-packages\\sklearn\\linear_model\\_logistic.py:762: ConvergenceWarning: lbfgs failed to converge (status=1):\n",
      "STOP: TOTAL NO. of ITERATIONS REACHED LIMIT.\n",
      "\n",
      "Increase the number of iterations (max_iter) or scale the data as shown in:\n",
      "    https://scikit-learn.org/stable/modules/preprocessing.html\n",
      "Please also refer to the documentation for alternative solver options:\n",
      "    https://scikit-learn.org/stable/modules/linear_model.html#logistic-regression\n",
      "  n_iter_i = _check_optimize_result(\n"
     ]
    },
    {
     "name": "stdout",
     "output_type": "stream",
     "text": [
      "Accuracy of RF classifier on training set: 0.93\n",
      "Accuracy of RF classifier on test set: 0.93\n",
      "Roc AUC score on data: 0.60\n"
     ]
    }
   ],
   "source": [
    "from sklearn.linear_model import LogisticRegression\n",
    "clf = LogisticRegression().fit(X_train, y_train)\n",
    "print('Accuracy of RF classifier on training set: {:.2f}'\n",
    "     .format(clf.score(X_train, y_train)))\n",
    "print('Accuracy of RF classifier on test set: {:.2f}'\n",
    "     .format(clf.score(X_test, y_test)))\n",
    "print('Roc AUC score on data: {:.2f}'.format(roc_auc_score(y, clf.predict_proba(X)[:, 1])))"
   ]
  },
  {
   "cell_type": "code",
   "execution_count": 43,
   "metadata": {},
   "outputs": [
    {
     "data": {
      "text/plain": [
       "ticket_id\n",
       "284932    0.089749\n",
       "285362    0.070194\n",
       "285361    0.083996\n",
       "285338    0.083996\n",
       "285346    0.084400\n",
       "            ...   \n",
       "376496    0.037589\n",
       "376497    0.037589\n",
       "376499    0.059594\n",
       "376500    0.059594\n",
       "369851    0.264841\n",
       "Length: 61001, dtype: float64"
      ]
     },
     "execution_count": 43,
     "metadata": {},
     "output_type": "execute_result"
    }
   ],
   "source": [
    "# Our Predictions probabilities with RandomForestClassifier\n",
    "\n",
    "def blight_model():\n",
    "    #print(X.head())\n",
    "\n",
    "    #X_train, X_test, y_train, y_test = train_test_split(X, y, test_size=0.2, random_state=0)\n",
    "\n",
    "\n",
    "    clf = RandomForestClassifier(random_state=0, n_estimators=50, max_depth=3).fit(X, y)\n",
    "    #print('Accuracy of RF classifier on training set: {:.2f}'\n",
    "    #     .format(clf.score(X_train, y_train)))\n",
    "    #print('Accuracy of RF classifier on test set: {:.2f}'\n",
    "    #     .format(clf.score(X_test, y_test)))\n",
    "    #print('Roc AUC score on data: {:.2f}'.format(roc_auc_score(y, clf.predict_proba(X)[:, 1])))\n",
    "\n",
    "    preds = clf.predict_proba(current_tickets)\n",
    "    rec = pd.Series([pred[1] for pred in preds], index = current_tickets['ticket_id'].astype(int))\n",
    "    rec\n",
    "    \n",
    "    return rec\n",
    "\n",
    "blight_model()"
   ]
  },
  {
   "cell_type": "markdown",
   "metadata": {},
   "source": [
    "# Model Evaluation"
   ]
  },
  {
   "cell_type": "code",
   "execution_count": null,
   "metadata": {},
   "outputs": [],
   "source": []
  },
  {
   "cell_type": "markdown",
   "metadata": {},
   "source": [
    "# Exporting Predictions"
   ]
  },
  {
   "cell_type": "code",
   "execution_count": null,
   "metadata": {},
   "outputs": [],
   "source": []
  }
 ],
 "metadata": {
  "kernelspec": {
   "display_name": "Python 3",
   "language": "python",
   "name": "python3"
  },
  "language_info": {
   "codemirror_mode": {
    "name": "ipython",
    "version": 3
   },
   "file_extension": ".py",
   "mimetype": "text/x-python",
   "name": "python",
   "nbconvert_exporter": "python",
   "pygments_lexer": "ipython3",
   "version": "3.8.3"
  }
 },
 "nbformat": 4,
 "nbformat_minor": 4
}
